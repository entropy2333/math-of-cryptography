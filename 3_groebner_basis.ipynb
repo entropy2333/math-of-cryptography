{
 "cells": [
  {
   "cell_type": "markdown",
   "id": "0c59bebb",
   "metadata": {},
   "source": [
    "# Groebner Basis"
   ]
  },
  {
   "cell_type": "markdown",
   "id": "9d222fa6",
   "metadata": {},
   "source": [
    "## 基本用法"
   ]
  },
  {
   "cell_type": "code",
   "execution_count": 3,
   "id": "ff7587d2",
   "metadata": {},
   "outputs": [
    {
     "data": {
      "text/plain": [
       "x^2*y - z^3 + x^2 - z^2"
      ]
     },
     "execution_count": 3,
     "metadata": {},
     "output_type": "execute_result"
    }
   ],
   "source": [
    "# 计算s-polynomial\n",
    "R.<x,y,z> = PolynomialRing(QQ, 3, order='deglex')\n",
    "from sage.rings.polynomial.toy_buchberger import spol\n",
    "spol(x^2 - z - 1, z^2 - y - 1)"
   ]
  },
  {
   "cell_type": "code",
   "execution_count": 6,
   "id": "9206ef3a",
   "metadata": {},
   "outputs": [
    {
     "name": "stdout",
     "output_type": "stream",
     "text": [
      "[x*y^2 + x + 1, y^3 + x*z + x + y, y^2*z + y^2 + x + z + 1, x^2 + z + 1, z^2 + y + 1]\n"
     ]
    }
   ],
   "source": [
    "# 计算groebner basis\n",
    "R.<x,y,z> = PolynomialRing(GF(2))\n",
    "I = R.ideal([x^2 - z - 1, z^2 - y - 1, x*y^2 - x - 1])\n",
    "set_verbose(0)\n",
    "gb = I.groebner_basis()\n",
    "print(gb)"
   ]
  },
  {
   "cell_type": "code",
   "execution_count": 8,
   "id": "9c9b7e23",
   "metadata": {},
   "outputs": [
    {
     "data": {
      "text/plain": [
       "[x + y + z^2 - 1, y^2 - y - z^2 + z, y*z^2 + 1/2*z^4 - 1/2*z^2, z^6 - 4*z^4 + 4*z^3 - z^2]"
      ]
     },
     "execution_count": 8,
     "metadata": {},
     "output_type": "execute_result"
    }
   ],
   "source": [
    "# 按照Lexical Order计算groebner basis\n",
    "R.<x,y,z> = PolynomialRing(QQ, 3, order='lex')\n",
    "I = Ideal([x^2+y+z-1,x+y^2+z-1,x+y+z^2-1])\n",
    "I.groebner_basis()"
   ]
  },
  {
   "cell_type": "code",
   "execution_count": 10,
   "id": "bbfae44b",
   "metadata": {},
   "outputs": [
    {
     "data": {
      "text/plain": [
       "[x^2 + y + z - 1, y^2 + x + z - 1, z^2 + x + y - 1]"
      ]
     },
     "execution_count": 10,
     "metadata": {},
     "output_type": "execute_result"
    }
   ],
   "source": [
    "# 按照Gated Lexical Order计算groebner basis\n",
    "R.<x,y,z> = PolynomialRing(QQ, 3, order='deglex')\n",
    "I = Ideal([x^2+y+z-1,x+y^2+z-1,x+y+z^2-1])\n",
    "I.groebner_basis()"
   ]
  },
  {
   "cell_type": "code",
   "execution_count": 11,
   "id": "08fb07a6",
   "metadata": {},
   "outputs": [
    {
     "data": {
      "text/plain": [
       "[x^2 + y + z - 1, y^2 + x + z - 1, z^2 + x + y - 1]"
      ]
     },
     "execution_count": 11,
     "metadata": {},
     "output_type": "execute_result"
    }
   ],
   "source": [
    "# 按照Gated Reverse Lexical Order计算groebner basis\n",
    "R.<x,y,z> = PolynomialRing(QQ, 3, order='degrevlex')\n",
    "I = Ideal([x^2+y+z-1,x+y^2+z-1,x+y+z^2-1])\n",
    "I.groebner_basis()"
   ]
  },
  {
   "cell_type": "code",
   "execution_count": 14,
   "id": "5bbaaf67",
   "metadata": {},
   "outputs": [
    {
     "data": {
      "text/plain": [
       "[z^2 - 3/2*z*x + 2*y, z*x^2 - 8/9*z*y + 2/9*z - 4/3*x*y - 1/9*x, z*x*y + 1/12*z*x - 1/8*x^2 - 4/3*y^2 + 1/3*y, z*y^2 - 1/6*z*y - 1/48*z - 9/64*x^3 + 5/8*x*y + 1/96*x, x^4 - 16/3*x^2*y + 4/27*x^2 - 256/27*y^3 + 128/27*y^2 - 16/27*y]"
      ]
     },
     "execution_count": 14,
     "metadata": {},
     "output_type": "execute_result"
    }
   ],
   "source": [
    "# 计算曲线方程\n",
    "R.<z,x,y> = PolynomialRing(QQ, 3, order='lex')\n",
    "I = Ideal([x - 2*z - 4*z^3, y - z^2 - 3*z^4])\n",
    "I.groebner_basis()"
   ]
  },
  {
   "cell_type": "code",
   "execution_count": 18,
   "id": "8d3198ac",
   "metadata": {},
   "outputs": [
    {
     "data": {
      "text/plain": [
       "[w^3 - 1, z^2 + z*w + w^2, x - w, y + z + w]"
      ]
     },
     "execution_count": 18,
     "metadata": {},
     "output_type": "execute_result"
    }
   ],
   "source": [
    "# 点着色问题 n=4 k=3\n",
    "R.<x,y,z,w> = PolynomialRing(QQ, 4, order='deglex')\n",
    "I = Ideal([x^3-1, y^3-1, z^3-1, w^3-1, \\\n",
    "           x^2+x*y+y^2, x^2+x*z+z^2, y^2+y*z+z^2, y^2+y*w+w^2, z^2+z*w+w^2])\n",
    "I.groebner_basis()"
   ]
  },
  {
   "cell_type": "code",
   "execution_count": 22,
   "id": "4f42268d",
   "metadata": {},
   "outputs": [
    {
     "data": {
      "text/plain": [
       "[1]"
      ]
     },
     "execution_count": 22,
     "metadata": {},
     "output_type": "execute_result"
    }
   ],
   "source": [
    "# 点着色问题 n=4 k=3 多加一条边\n",
    "R.<x,y,z,w> = PolynomialRing(QQ, 4, order='deglex')\n",
    "I = Ideal([x^3-1, y^3-1, z^3-1, w^3-1, \\\n",
    "           x^2+x*y+y^2, x^2+x*z+z^2, y^2+y*z+z^2, y^2+y*w+w^2, z^2+z*w+w^2, x^2+x*w+w^2])\n",
    "I.groebner_basis()"
   ]
  },
  {
   "cell_type": "code",
   "execution_count": 24,
   "id": "516ddd74",
   "metadata": {},
   "outputs": [
    {
     "data": {
      "text/plain": [
       "[1]"
      ]
     },
     "execution_count": 24,
     "metadata": {},
     "output_type": "execute_result"
    }
   ],
   "source": [
    "# 直角三角形 ABC， H 是从 A 点到线段 BC 的垂足， L、 K、 M 分别是边AC、 AB、 BC 的中点。那么 H、 L、 K、 M 四点在同一个圆上。\n",
    "R.<a,b,p,s,t,u,v,w,x,y,z> = PolynomialRing(QQ, 11, order='lex')\n",
    "I = Ideal([2*s - a, 2*t - b, 2*u-a, 2*v - b, \\\n",
    "           a*w - b*x, b*w + a*x - a*b, \\\n",
    "           (s-y)^2 + z*2 - y*2 - (z-t)^2, \\\n",
    "           (s-y)^2 + z*2 - (u-y)^2 - (v-z)^2, \\\n",
    "           (w - y)^2 + (x-z)^2 - (s-y)^2 - z*2, \\\n",
    "           1 - p*((w - y)^2 + (x-z)^2 - (s-y)^2 - z*2)])\n",
    "I.groebner_basis()"
   ]
  },
  {
   "cell_type": "markdown",
   "id": "9e91e771",
   "metadata": {},
   "source": [
    "## 例题"
   ]
  },
  {
   "cell_type": "code",
   "execution_count": 27,
   "id": "bd8908ee",
   "metadata": {},
   "outputs": [
    {
     "data": {
      "text/plain": [
       "[y^3 + y^2, x^2 + y, x*y + y^2]"
      ]
     },
     "execution_count": 27,
     "metadata": {},
     "output_type": "execute_result"
    }
   ],
   "source": [
    "R.<x,y> = PolynomialRing(QQ, 2, order='deglex')\n",
    "I = Ideal([x^2 + y, x*y + y^2])\n",
    "I.groebner_basis()"
   ]
  },
  {
   "cell_type": "code",
   "execution_count": 4,
   "id": "5a0ea26d",
   "metadata": {},
   "outputs": [
    {
     "data": {
      "text/plain": [
       "[1]"
      ]
     },
     "execution_count": 4,
     "metadata": {},
     "output_type": "execute_result"
    }
   ],
   "source": [
    "# 菱形对角线相互垂直\n",
    "# A(0,0) B(b,0) C(c,y) D(d,y)\n",
    "R.<b,c,d,y,p> = PolynomialRing(QQ, 5, order='lex')\n",
    "I = Ideal([c - d - b, \\\n",
    "           d^2 - (c - b)^2, \\\n",
    "           d^2 + y^2 - b^2, y*(b + d - c), \\\n",
    "           1 - p*(y^2 + (d - b) * c)])\n",
    "I.groebner_basis()"
   ]
  }
 ],
 "metadata": {
  "kernelspec": {
   "display_name": "SageMath 9.4",
   "language": "sage",
   "name": "sagemath"
  },
  "language_info": {
   "codemirror_mode": {
    "name": "ipython",
    "version": 3
   },
   "file_extension": ".py",
   "mimetype": "text/x-python",
   "name": "python",
   "nbconvert_exporter": "python",
   "pygments_lexer": "ipython3",
   "version": "3.9.9"
  }
 },
 "nbformat": 4,
 "nbformat_minor": 5
}
