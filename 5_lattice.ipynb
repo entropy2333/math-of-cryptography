{
 "cells": [
  {
   "cell_type": "markdown",
   "id": "c5fc57e3",
   "metadata": {},
   "source": [
    "# Lattice"
   ]
  },
  {
   "cell_type": "markdown",
   "id": "3f97060d",
   "metadata": {},
   "source": [
    "## 基本用法"
   ]
  },
  {
   "cell_type": "code",
   "execution_count": 3,
   "id": "7cb9671e",
   "metadata": {},
   "outputs": [
    {
     "name": "stdout",
     "output_type": "stream",
     "text": [
      "[ -2   8  19]\n",
      "[ -2  11 -14]\n",
      "[  1  -7  -8]\n"
     ]
    },
    {
     "data": {
      "text/plain": [
       "(\n",
       "[ -2  -2   7]  [ 1 -5 -2]\n",
       "[ -2   1 -14]  [ 0  1 -4]\n",
       "[  1  -2 -14], [ 0  0  1]\n",
       ")"
      ]
     },
     "execution_count": 3,
     "metadata": {},
     "output_type": "execute_result"
    }
   ],
   "source": [
    "A = matrix(QQ,[[-2, 8, 19], [-2, 11, -14], [1, -7, -8]])\n",
    "print(A)\n",
    "B = A.T.gram_schmidt()\n",
    "(B[0].T,B[1].T)"
   ]
  },
  {
   "cell_type": "code",
   "execution_count": 4,
   "id": "051673e2",
   "metadata": {},
   "outputs": [
    {
     "name": "stdout",
     "output_type": "stream",
     "text": [
      "[ 1 -1  3]\n",
      "[ 1  0  5]\n",
      "[ 1  2  6]\n",
      "-------------\n",
      "[ 0  1 -1]\n",
      "[ 1  0  0]\n",
      "[ 0  1  2]\n"
     ]
    }
   ],
   "source": [
    "B = matrix([[1, 1, 1], [-1, 0, 2], [3, 5, 6]])\n",
    "print(B.T)\n",
    "print(\"-------------\")\n",
    "B2 = B.LLL().T\n",
    "print(B2)"
   ]
  },
  {
   "cell_type": "code",
   "execution_count": 5,
   "id": "34bca83e",
   "metadata": {},
   "outputs": [
    {
     "name": "stdout",
     "output_type": "stream",
     "text": [
      "[1 9 1 2]\n",
      "[1 8 8 3]\n",
      "[7 4 5 1]\n",
      "[2 6 7 1]\n",
      "----------\n",
      "[ 2  3 -2 -4]\n",
      "[ 3 -1  2  1]\n",
      "[ 1  1  6 -4]\n",
      "[ 1  3 -1  3]\n",
      "----------\n",
      "[ 2  3 -2 -4]\n",
      "[ 3 -1  2  1]\n",
      "[ 1  1  6 -4]\n",
      "[ 1  3 -1  3]\n"
     ]
    }
   ],
   "source": [
    "B = matrix([[ 1 ,9 ,1 ,2], [ 1 ,8 ,8 ,3] , [7, 4, 5,1], [ 2 ,6, 7, 1] ])\n",
    "C = matrix([[0,0 ,1 , -1], [ 0 , 1 , -1, 0] , [0, 0 , 0, 1], [ 1 , -3 , 3,-2] ])\n",
    "print(B)\n",
    "print(\"----------\")\n",
    "B2 = B.T.LLL().T\n",
    "print(B2)\n",
    "print(\"----------\")\n",
    "print(B*C)"
   ]
  },
  {
   "cell_type": "code",
   "execution_count": 6,
   "id": "2e7daebd",
   "metadata": {},
   "outputs": [
    {
     "name": "stdout",
     "output_type": "stream",
     "text": [
      "[    1     0     0     0     0     0     0     0     0]\n",
      "[    0     1     0     0     0     0     0     0     0]\n",
      "[    0     0     1     0     0     0     0     0     0]\n",
      "[    0     0     0     1     0     0     0     0     0]\n",
      "[    0     0     0     0     1     0     0     0     0]\n",
      "[    0     0     0     0     0     1     0     0     0]\n",
      "[    0     0     0     0     0     0     1     0     0]\n",
      "[    0     0     0     0     0     0     0     1     0]\n",
      "[   74   111   222   444   434   414   374   294 -1226]\n",
      "[ 1  0  0  0  0  0 -1  2  0]\n",
      "[ 0  0 -2 -1  1  1  0  0  1]\n",
      "[ 0 -2  1 -1  0  1 -1 -1  1]\n",
      "[ 1  1  0  0  1  0  0 -1  0]\n",
      "[ 0  0  0  0 -1  0  0  0 -2]\n",
      "[ 1  0  0  1 -1  1  0 -1  2]\n",
      "[ 0  0  0 -1  0 -2  0  0  0]\n",
      "[ 1  0  0  1  1  0  1 -1 -1]\n",
      "[ 0  0  0  1  1 -1 -2  0 -1]\n"
     ]
    }
   ],
   "source": [
    "r = 8\n",
    "C = 1226\n",
    "I = matrix.identity(r)\n",
    "Y = matrix(QQ, [74, 111, 222, 444, 434, 414, 374, 294])\n",
    "B = matrix(r+1,r+1,0)\n",
    "B.set_block(0,0,I)\n",
    "B.set_block(r,0,Y)\n",
    "B.set_block(r,r,matrix(QQ,[-C]))\n",
    "print(B)\n",
    "B2 = B.T.LLL()\n",
    "print(B2.T)"
   ]
  },
  {
   "cell_type": "markdown",
   "id": "121dabef",
   "metadata": {},
   "source": [
    "## 例题"
   ]
  },
  {
   "cell_type": "code",
   "execution_count": 28,
   "id": "686d408c",
   "metadata": {},
   "outputs": [
    {
     "name": "stdout",
     "output_type": "stream",
     "text": [
      "[1 1 2]\n",
      "[1 2 1]\n",
      "[1 3 3]\n"
     ]
    },
    {
     "data": {
      "text/plain": [
       "(\n",
       "[  1  -1 1/2]  [  1   2   2]\n",
       "[  1   0  -1]  [  0   1 1/2]\n",
       "[  1   1 1/2], [  0   0   1]\n",
       ")"
      ]
     },
     "execution_count": 28,
     "metadata": {},
     "output_type": "execute_result"
    }
   ],
   "source": [
    "b1 = [1, 1, 1]\n",
    "b2 = [1, 2, 3]\n",
    "b3 = [2, 1, 3]\n",
    "A = matrix(QQ, [b1, b2, b3])\n",
    "print(A.T)\n",
    "B = A.gram_schmidt()\n",
    "(B[0].T, B[1].T)"
   ]
  }
 ],
 "metadata": {
  "kernelspec": {
   "display_name": "SageMath 9.4",
   "language": "sage",
   "name": "sagemath"
  },
  "language_info": {
   "codemirror_mode": {
    "name": "ipython",
    "version": 3
   },
   "file_extension": ".py",
   "mimetype": "text/x-python",
   "name": "python",
   "nbconvert_exporter": "python",
   "pygments_lexer": "ipython3",
   "version": "3.9.9"
  }
 },
 "nbformat": 4,
 "nbformat_minor": 5
}
