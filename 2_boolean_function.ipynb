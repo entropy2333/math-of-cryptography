{
 "cells": [
  {
   "cell_type": "markdown",
   "id": "829deb99",
   "metadata": {},
   "source": [
    "# Boolean Function"
   ]
  },
  {
   "cell_type": "markdown",
   "id": "272b3e66",
   "metadata": {},
   "source": [
    "## 基本用法"
   ]
  },
  {
   "cell_type": "code",
   "execution_count": 2,
   "id": "427feaf1",
   "metadata": {},
   "outputs": [],
   "source": [
    "from sage.crypto.boolean_function import BooleanFunction"
   ]
  },
  {
   "cell_type": "code",
   "execution_count": 3,
   "id": "523bfb7e",
   "metadata": {},
   "outputs": [
    {
     "data": {
      "text/plain": [
       "x0*x1*x2 + x0*x1 + x0 + x1*x2 + x1"
      ]
     },
     "execution_count": 3,
     "metadata": {},
     "output_type": "execute_result"
    }
   ],
   "source": [
    "# 求解代数范式\n",
    "f = BooleanFunction([0, 1, 1, 1, 0, 1, 0, 1])\n",
    "f.algebraic_normal_form()"
   ]
  },
  {
   "cell_type": "code",
   "execution_count": 4,
   "id": "6626adcf",
   "metadata": {},
   "outputs": [
    {
     "data": {
      "text/plain": [
       "x0*x1*x2*x3 + x0*x1*x2*x4 + x0*x1*x2*x5 + x0*x1*x2*x6 + x0*x1*x2 + x0*x1*x3*x4 + x0*x1*x3*x6 + x0*x1*x5*x6 + x0*x1*x5 + x0*x2*x3*x5 + x0*x2*x3*x6 + x0*x2*x3 + x0*x2*x4*x5 + x0*x2*x4*x6 + x0*x2*x5*x6 + x0*x2*x5 + x0*x2*x6 + x0*x2 + x0*x3*x4*x6 + x0*x3 + x0*x4*x5 + x0*x5*x6 + x0*x6 + x1*x2*x3*x4 + x1*x2*x3*x5 + x1*x2*x3*x6 + x1*x2*x4*x5 + x1*x2*x4*x6 + x1*x2*x4 + x1*x2*x5*x6 + x1*x2*x5 + x1*x2*x6 + x1*x3*x4*x5 + x1*x3*x4 + x1*x3*x5*x6 + x1*x3*x5 + x1*x6 + x2*x3*x4*x5 + x2*x3*x4*x6 + x2*x3*x4 + x2*x3*x5*x6 + x2*x3*x5 + x2*x4*x5 + x2*x4 + x2*x5*x6 + x2*x6 + x2 + x3*x4*x5*x6 + x3*x4*x5 + x3*x4*x6 + x3*x5*x6 + x3*x5 + x3*x6 + x4 + x5*x6 + x5"
      ]
     },
     "execution_count": 4,
     "metadata": {},
     "output_type": "execute_result"
    }
   ],
   "source": [
    "f = BooleanFunction(\"7969817CC5893BA6AC326E47619F5AD0\") # 32*4 = 128 = 2^7\n",
    "f.algebraic_normal_form()"
   ]
  },
  {
   "cell_type": "code",
   "execution_count": 6,
   "id": "b630f7e5",
   "metadata": {},
   "outputs": [
    {
     "name": "stdout",
     "output_type": "stream",
     "text": [
      "x0*x1 + x0 + x1*x2\n",
      "(0, 4, 0, 4, 4, 0, -4, 0)\n",
      "degree: 2\n",
      "balanced?: True\n",
      "bent?: False\n"
     ]
    }
   ],
   "source": [
    "f = BooleanFunction([0,1,0,0,0,1,1,1])\n",
    "print(f.algebraic_normal_form())\n",
    "print(f.walsh_hadamard_transform())\n",
    "print(\"degree:\", f.algebraic_degree())\n",
    "print(\"balanced?:\", f.is_balanced())\n",
    "print(\"bent?:\", f.is_bent())"
   ]
  },
  {
   "cell_type": "code",
   "execution_count": 9,
   "id": "bf062b6b",
   "metadata": {},
   "outputs": [
    {
     "name": "stdout",
     "output_type": "stream",
     "text": [
      "x0*x1 + x2*x3\n",
      "(0, 0, 0, 1, 0, 0, 0, 1, 0, 0, 0, 1, 1, 1, 1, 0)\n",
      "(4, 4, 4, -4, 4, 4, 4, -4, 4, 4, 4, -4, -4, -4, -4, 4)\n",
      "degree: 2\n",
      "balanced?: False\n",
      "bent?: True\n"
     ]
    }
   ],
   "source": [
    "R.<x,y,z,w> = BooleanPolynomialRing(4)\n",
    "p = x*y + z*w\n",
    "f = BooleanFunction(p)\n",
    "print(f.algebraic_normal_form())\n",
    "print(f.truth_table(format='int'))\n",
    "print(f.walsh_hadamard_transform())\n",
    "print(\"degree:\", f.algebraic_degree())\n",
    "print(\"balanced?:\", f.is_balanced())\n",
    "print(\"bent?:\", f.is_bent())"
   ]
  },
  {
   "cell_type": "markdown",
   "id": "0f37ba52",
   "metadata": {},
   "source": [
    "## 例题"
   ]
  },
  {
   "cell_type": "code",
   "execution_count": 21,
   "id": "7232c0fe",
   "metadata": {},
   "outputs": [
    {
     "name": "stdout",
     "output_type": "stream",
     "text": [
      "(0, 0, 1, 0, 0, 1, 1, 1)\n",
      "x0*x1 + x0*x2 + x1\n",
      "(0, 0, 4, 4, 4, -4, 0, 0)\n",
      "degree: 2\n",
      "balanced?: True\n",
      "bent?: False\n"
     ]
    }
   ],
   "source": [
    "f = BooleanFunction([0, 0, 1, 0, 0, 1, 1, 1])\n",
    "# f = BooleanFunction([0, 1, 0, 0, 0, 1, 1, 1])\n",
    "print(f.truth_table(format='int'))\n",
    "print(f.algebraic_normal_form())\n",
    "print(f.walsh_hadamard_transform())\n",
    "print(\"degree:\", f.algebraic_degree())\n",
    "print(\"balanced?:\", f.is_balanced())\n",
    "print(\"bent?:\", f.is_bent())"
   ]
  }
 ],
 "metadata": {
  "kernelspec": {
   "display_name": "Python 3.9.9 64-bit ('sage': conda)",
   "language": "python",
   "name": "python399jvsc74a57bd03f0376bed518b0d7a3b625bb47e182bd5bad28b5458b822debb07d0da8bc95c9"
  },
  "language_info": {
   "codemirror_mode": {
    "name": "ipython",
    "version": 3
   },
   "file_extension": ".py",
   "mimetype": "text/x-python",
   "name": "python",
   "nbconvert_exporter": "python",
   "pygments_lexer": "ipython3",
   "version": "3.9.9"
  }
 },
 "nbformat": 4,
 "nbformat_minor": 5
}
