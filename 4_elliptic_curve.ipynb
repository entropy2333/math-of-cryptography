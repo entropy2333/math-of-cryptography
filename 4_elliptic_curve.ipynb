{
 "cells": [
  {
   "cell_type": "markdown",
   "id": "32c1cf83",
   "metadata": {},
   "source": [
    "# Elliptic Curve"
   ]
  },
  {
   "cell_type": "markdown",
   "id": "b3ee01c3",
   "metadata": {},
   "source": [
    "## 基本用法"
   ]
  },
  {
   "cell_type": "code",
   "execution_count": 33,
   "id": "e12077d0",
   "metadata": {},
   "outputs": [
    {
     "name": "stdout",
     "output_type": "stream",
     "text": [
      "Elliptic Curve defined by y^2 + y = x^3 + 9*x over Rational Field\n"
     ]
    }
   ],
   "source": [
    "a1 = 0\n",
    "a2 = 0\n",
    "a3 = 1\n",
    "a4 = 9\n",
    "a6 = 0\n",
    "E = EllipticCurve(QQ,[a1,a2,a3,a4,a6])\n",
    "print(E)"
   ]
  },
  {
   "cell_type": "code",
   "execution_count": 34,
   "id": "b1da2ebb",
   "metadata": {},
   "outputs": [
    {
     "name": "stdout",
     "output_type": "stream",
     "text": [
      "57896044618658097711785492504343953926856930875039260848015607506283634007912\n",
      "28948022309329048855892746252171976963428465437519630424007803753141817003956\n",
      "2\n"
     ]
    }
   ],
   "source": [
    "ec = EllipticCurve(GF(2**255-19), [0,486662,0,1,0])\n",
    "print(ec.order())\n",
    "Point = ec.random_point()\n",
    "print(Point.order())\n",
    "print(ec.order() / Point.order())"
   ]
  },
  {
   "cell_type": "markdown",
   "id": "fe53a84c",
   "metadata": {},
   "source": [
    "## 例题"
   ]
  },
  {
   "cell_type": "code",
   "execution_count": 43,
   "id": "5b436b94",
   "metadata": {},
   "outputs": [
    {
     "name": "stdout",
     "output_type": "stream",
     "text": [
      "18\n",
      "3\n",
      "1P: (10 : 5 : 1)\n",
      "2P: (10 : 12 : 1)\n",
      "3P: (0 : 1 : 0)\n",
      "4P: (10 : 5 : 1)\n",
      "5P: (10 : 12 : 1)\n",
      "6P: (0 : 1 : 0)\n",
      "6\n"
     ]
    }
   ],
   "source": [
    "# F17 y^2 = x^3 + x + 1\n",
    "ec = EllipticCurve(GF(17), [0,0,0,1,1])\n",
    "print(ec.order())\n",
    "Point = ec.random_point()\n",
    "print(Point.order())\n",
    "for i in range(1, 7):\n",
    "    print(f'{i}P: {i*Point}')\n",
    "print(ec.order() / Point.order())"
   ]
  },
  {
   "cell_type": "code",
   "execution_count": 44,
   "id": "2ee0f218",
   "metadata": {},
   "outputs": [
    {
     "name": "stdout",
     "output_type": "stream",
     "text": [
      "28\n",
      "<class 'sage.schemes.elliptic_curves.ell_point.EllipticCurvePoint_finite_field'>\n",
      "14\n",
      "1P: (6 : 19 : 1)\n",
      "2P: (13 : 16 : 1)\n",
      "3P: (7 : 11 : 1)\n",
      "2\n"
     ]
    }
   ],
   "source": [
    "# F23 y^2 = x^3 + x + 1\n",
    "ec = EllipticCurve(GF(23), [0,0,0,1,1])\n",
    "print(ec.order())\n",
    "Point = ec.random_point()\n",
    "print(Point.order())\n",
    "for i in range(1, 4):\n",
    "    print(f'{i}P: {i*Point}')\n",
    "print(ec.order() / Point.order())"
   ]
  },
  {
   "cell_type": "code",
   "execution_count": 37,
   "id": "90df941c",
   "metadata": {},
   "outputs": [
    {
     "name": "stdout",
     "output_type": "stream",
     "text": [
      "Elliptic Curve defined by y^2 = x^3 + 1 over Finite Field of size 5\n",
      "6\n",
      "[(0 : 1 : 0), (0 : 1 : 1), (0 : 4 : 1), (2 : 2 : 1), (2 : 3 : 1), (4 : 0 : 1)]\n",
      "3\n",
      "2\n"
     ]
    }
   ],
   "source": [
    "# F23 y^2 = x^3 + 1\n",
    "ec = EllipticCurve(GF(5), [0,0,0,0,1])\n",
    "print(ec)\n",
    "print(ec.order())\n",
    "print(ec.points())\n",
    "Point = ec.random_point()\n",
    "print(Point.order())\n",
    "print(ec.order() / Point.order())"
   ]
  },
  {
   "cell_type": "code",
   "execution_count": 11,
   "id": "a34e11bb",
   "metadata": {},
   "outputs": [
    {
     "name": "stdout",
     "output_type": "stream",
     "text": [
      "Elliptic Curve defined by y^2 = x^3 + x + 2 over Finite Field of size 17\n",
      "[(0 : 1 : 0), (0 : 6 : 1), (0 : 11 : 1), (1 : 2 : 1), (1 : 15 : 1), (3 : 7 : 1), (3 : 10 : 1), (4 : 6 : 1), (4 : 11 : 1), (5 : 8 : 1), (5 : 9 : 1), (9 : 3 : 1), (9 : 14 : 1), (10 : 3 : 1), (10 : 14 : 1), (11 : 1 : 1), (11 : 16 : 1), (12 : 5 : 1), (12 : 12 : 1), (13 : 6 : 1), (13 : 11 : 1), (15 : 3 : 1), (15 : 14 : 1), (16 : 0 : 1)]\n",
      "24\n",
      "False\n",
      "(0 : 11 : 1) 12\n",
      "0 (0 : 1 : 0)\n",
      "1 (0 : 11 : 1)\n",
      "2 (15 : 3 : 1)\n",
      "3 (1 : 2 : 1)\n",
      "4 (12 : 12 : 1)\n",
      "5 (3 : 10 : 1)\n",
      "6 (16 : 0 : 1)\n",
      "7 (3 : 7 : 1)\n",
      "8 (12 : 5 : 1)\n",
      "9 (1 : 15 : 1)\n",
      "10 (15 : 14 : 1)\n",
      "11 (0 : 6 : 1)\n"
     ]
    }
   ],
   "source": [
    "# 我们计算常用的曲线\n",
    "ec = EllipticCurve(GF(17), [0,0,0,1,2])\n",
    "print(ec)\n",
    "print(ec.points())\n",
    "od = ec.order()\n",
    "print(od)\n",
    "print(od in Primes())\n",
    "P = ec.random_point()\n",
    "print(P,P.order())\n",
    "for i in range(P.order()):\n",
    "    print(i, i*P)"
   ]
  }
 ],
 "metadata": {
  "kernelspec": {
   "display_name": "SageMath 9.4",
   "language": "sage",
   "name": "sagemath"
  },
  "language_info": {
   "codemirror_mode": {
    "name": "ipython",
    "version": 3
   },
   "file_extension": ".py",
   "mimetype": "text/x-python",
   "name": "python",
   "nbconvert_exporter": "python",
   "pygments_lexer": "ipython3",
   "version": "3.9.9"
  }
 },
 "nbformat": 4,
 "nbformat_minor": 5
}
